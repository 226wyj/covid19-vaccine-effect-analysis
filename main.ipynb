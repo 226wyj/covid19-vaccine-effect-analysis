{
 "cells": [
  {
   "cell_type": "code",
   "execution_count": null,
   "id": "6271e7c8",
   "metadata": {},
   "outputs": [],
   "source": [
    "import pandas as pd\n",
    "import matplotlib.pyplot as plt\n",
    "from sklearn.preprocessing import StandardScaler\n",
    "from sklearn.cluster import KMeans\n",
    "import scipy.stats as stats\n",
    "import seaborn as sns"
   ]
  },
  {
   "cell_type": "code",
   "execution_count": null,
   "id": "228eb356",
   "metadata": {},
   "outputs": [],
   "source": [
    "vaccine_df = pd.read_csv(\"data/covid-19-post-vaccination-statewide-stats.csv\")\n",
    "vaccine_df.head(3)"
   ]
  },
  {
   "cell_type": "code",
   "execution_count": null,
   "id": "ab848264",
   "metadata": {},
   "outputs": [],
   "source": [
    "# Replace NaN to 0\n",
    "vaccine_df.fillna(0, inplace=True)\n",
    "\n",
    "# Make date column to Date-type.\n",
    "vaccine_df['date'] = pd.to_datetime(vaccine_df['date'])\n",
    "\n",
    "# Sort the dataframe by date.\n",
    "vaccine_df.index = vaccine_df['date']\n",
    "vaccine_df.sort_index(inplace=True)\n",
    "\n",
    "vaccine_df.head(3)\n"
   ]
  },
  {
   "cell_type": "code",
   "execution_count": null,
   "id": "5ed0adba",
   "metadata": {},
   "outputs": [],
   "source": [
    "# Style settings of the plot.\n",
    "CB91_Blue = '#2CBDFE'\n",
    "CB91_Green = '#47DBCD'\n",
    "CB91_Pink = '#F3A0F2'\n",
    "CB91_Purple = '#9D2EC5'\n",
    "CB91_Violet = '#661D98'\n",
    "CB91_Amber = '#F5B14C'\n",
    "\n",
    "color_list = [CB91_Blue, CB91_Pink, CB91_Green,\n",
    "              CB91_Amber, CB91_Purple, CB91_Violet]\n",
    "plt.rcParams['axes.prop_cycle'] = plt.cycler(color=color_list)\n",
    "\n",
    "pd.options.display.notebook_repr_html = False  \n",
    "plt.rcParams['figure.dpi'] = 100\n"
   ]
  },
  {
   "cell_type": "code",
   "execution_count": null,
   "id": "893fd093",
   "metadata": {},
   "outputs": [],
   "source": [
    "# Infaction cases comparasion.\n",
    "sns.lineplot(data=[vaccine_df['unvaccinated_cases'],\n",
    "             vaccine_df['vaccinated_cases'],\n",
    "             vaccine_df['boosted_cases']]).set(title=\"Infection Compare\")\n",
    "\n",
    "plt.show()"
   ]
  },
  {
   "cell_type": "code",
   "execution_count": null,
   "id": "e04b700a",
   "metadata": {},
   "outputs": [],
   "source": [
    "# Hospitalized cases comparasion.\n",
    "sns.lineplot(data=[vaccine_df['unvaccinated_hosp'],\n",
    "             vaccine_df['vaccinated_hosp'],\n",
    "             vaccine_df['boosted_hosp']]).set(title=\"Hospitalized Compare\")\n",
    "plt.show()"
   ]
  },
  {
   "cell_type": "code",
   "execution_count": null,
   "id": "b82e864f",
   "metadata": {},
   "outputs": [],
   "source": [
    "# Death cases comparasion.\n",
    "sns.lineplot(data=[vaccine_df['unvaccinated_deaths'],\n",
    "             vaccine_df['vaccinated_deaths'],\n",
    "             vaccine_df['boosted_deaths']]).set(title=\"Deaths Compare\")\n",
    "plt.show()\n"
   ]
  },
  {
   "cell_type": "code",
   "execution_count": null,
   "id": "3db03bd7",
   "metadata": {},
   "outputs": [],
   "source": [
    "# The vaccined trends.\n",
    "sns.lineplot(data=[vaccine_df['population_unvaccinated'],\n",
    "             vaccine_df['population_vaccinated'],\n",
    "             vaccine_df['population_boosted']]).set(title=\"Vaccine Trends\")\n",
    "plt.show()\n",
    "\n",
    "# The infection trends\n",
    "sns.lineplot(data=[vaccine_df['unvaccinated_cases_per_100k'],\n",
    "             vaccine_df['vaccinated_cases_per_100k'],\n",
    "             vaccine_df['boosted_cases_per_100k']]).set(title=\"Infection Trends\")\n",
    "plt.show()\n",
    "\n",
    "# The hospitalized trends.\n",
    "sns.lineplot(data=[vaccine_df['unvaccinated_hosp_per_100k'],\n",
    "             vaccine_df['vaccinated_hosp_per_100k'],\n",
    "             vaccine_df['boosted_hosp_per_100k']]).set(title=\"Hospitalized Trends\")\n",
    "plt.show()\n",
    "\n",
    "# The death trends.\n",
    "sns.lineplot(data=[vaccine_df['unvaccinated_deaths_per_100k'],\n",
    "             vaccine_df['vaccinated_deaths_per_100k'],\n",
    "             vaccine_df['boosted_deaths_per_100k']]).set(title=\"Death Trends\")\n",
    "plt.show()\n"
   ]
  },
  {
   "cell_type": "code",
   "execution_count": null,
   "id": "016a975d",
   "metadata": {},
   "outputs": [],
   "source": [
    "# Get multiple rates based on the column data.\n",
    "vaccine_df['vaccinated_rate'] = vaccine_df['population_vaccinated'] / (\n",
    "    vaccine_df['population_vaccinated'] + vaccine_df['population_unvaccinated'])\n",
    "\n",
    "severe_cases = vaccine_df['unvaccinated_hosp'] + vaccine_df['unvaccinated_deaths'] + \\\n",
    "               vaccine_df['vaccinated_hosp'] + vaccine_df['boosted_hosp'] + \\\n",
    "               vaccine_df['vaccinated_deaths'] + vaccine_df['boosted_deaths']\n",
    "\n",
    "total_cases = vaccine_df['unvaccinated_cases'] + vaccine_df['vaccinated_cases']\n",
    "\n",
    "vaccine_df['severe_infection_rate'] = severe_cases / total_cases\n",
    "\n",
    "# vaccine_df.head(3)\n",
    "\n",
    "r, p = stats.pearsonr(vaccine_df['vaccinated_rate'], vaccine_df['severe_infection_rate'])\n",
    "print(r, p)\n"
   ]
  },
  {
   "cell_type": "code",
   "execution_count": null,
   "id": "0e4f0fe2",
   "metadata": {},
   "outputs": [],
   "source": [
    "# Correlation analysis\n",
    "vaccine_df['vaccinated_infection_rate'] = vaccine_df['vaccinated_cases'] / (\n",
    "    vaccine_df['vaccinated_cases'] + vaccine_df['unvaccinated_cases'])\n",
    "\n",
    "vaccine_df['vaccinated_hosp_rate'] = vaccine_df['vaccinated_hosp'] / (\n",
    "    vaccine_df['vaccinated_hosp'] + vaccine_df['unvaccinated_hosp'])\n",
    "\n",
    "vaccine_df['vaccinated_death_rate'] = vaccine_df['vaccinated_deaths'] / (\n",
    "    vaccine_df['vaccinated_deaths'] + vaccine_df['unvaccinated_deaths'])\n",
    "\n",
    "vaccine_df['unvaccinated_infection_rate'] = 1 - \\\n",
    "    vaccine_df['vaccinated_infection_rate']\n",
    "\n",
    "vaccine_df['unvaccinated_hosp_rate'] = 1 - vaccine_df['vaccinated_hosp_rate']\n",
    "\n",
    "vaccine_df['unvaccinated_death_rate'] = 1 - vaccine_df['vaccinated_death_rate']\n"
   ]
  }
 ],
 "metadata": {
  "kernelspec": {
   "display_name": "Python 3",
   "language": "python",
   "name": "python3"
  },
  "language_info": {
   "codemirror_mode": {
    "name": "ipython",
    "version": 3
   },
   "file_extension": ".py",
   "mimetype": "text/x-python",
   "name": "python",
   "nbconvert_exporter": "python",
   "pygments_lexer": "ipython3",
   "version": "3.10.2"
  }
 },
 "nbformat": 4,
 "nbformat_minor": 5
}
